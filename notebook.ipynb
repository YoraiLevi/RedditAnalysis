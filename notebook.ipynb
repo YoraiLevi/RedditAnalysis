{
 "cells": [
  {
   "cell_type": "code",
   "execution_count": 6,
   "metadata": {},
   "outputs": [
    {
     "name": "stdout",
     "output_type": "stream",
     "text": [
      "Note: you may need to restart the kernel to use updated packages.Requirement already satisfied: peewee in c:\\users\\devic\\onedrive\\documents\\sources\\redditanalysis\\env\\lib\\site-packages (3.14.10)\n",
      "Requirement already satisfied: psycopg2 in c:\\users\\devic\\onedrive\\documents\\sources\\redditanalysis\\env\\lib\\site-packages (2.9.3)\n",
      "\n"
     ]
    },
    {
     "name": "stderr",
     "output_type": "stream",
     "text": [
      "WARNING: You are using pip version 22.0.3; however, version 22.1.1 is available.\n",
      "You should consider upgrading via the 'c:\\Users\\devic\\OneDrive\\Documents\\Sources\\RedditAnalysis\\env\\Scripts\\python.exe -m pip install --upgrade pip' command.\n"
     ]
    }
   ],
   "source": [
    "# http://docs.peewee-orm.com/en/latest/\n",
    "%pip install peewee psycopg2\n",
    "# https://stackoverflow.com/questions/46711990/error-pg-config-executable-not-found-when-installing-psycopg2-on-alpine-in-dock\n",
    "# pip install psycopg2-binary\n",
    "import peewee"
   ]
  },
  {
   "cell_type": "code",
   "execution_count": 7,
   "metadata": {},
   "outputs": [],
   "source": [
    "database = peewee.PostgresqlDatabase('postgres', user='postgres', host='localhost',password='postgres')"
   ]
  },
  {
   "cell_type": "code",
   "execution_count": 8,
   "metadata": {},
   "outputs": [],
   "source": [
    "from peewee import *\n",
    "from playhouse.postgres_ext import *\n",
    "\n",
    "# model definitions -- the standard \"pattern\" is to define a base model class\n",
    "# that specifies which database to use.  then, any subclasses will automatically\n",
    "# use the correct storage.\n",
    "class BaseModel(Model):\n",
    "    class Meta:\n",
    "        database = database\n",
    "\n",
    "class Comment(BaseModel):\n",
    "    author = TextField()\n",
    "    author_flair_text = TextField(null=True)\n",
    "    author_fullname = TextField(null=True)\n",
    "    author_premium = BooleanField()\n",
    "    body = TextField()\n",
    "    comment_type = TextField(null=True)\n",
    "    controversiality = BigIntegerField()\n",
    "    distinguished = TextField(null=True)\n",
    "    gilded = BigIntegerField()\n",
    "    id = TextField() #id\n",
    "    link_id = TextField()\n",
    "    name = TextField()\n",
    "    parent_id = TextField()\n",
    "    permalink = TextField()\n",
    "    \n",
    "    created_utc = DateTimeField()\n",
    "    approved_at_utc = DateTimeField(null=True)\n",
    "    author_created_utc = DateTimeField(null=True)\n",
    "    retrieved_utc = DateTimeField() #  retrieved_on = BigIntegerField()\n",
    "    \n",
    "    score = BigIntegerField()\n",
    "    stickied = BooleanField()\n",
    "    subreddit = TextField()\n",
    "    subreddit_id = TextField()\n",
    "    subreddit_type = TextField()\n",
    "    total_awards_received = BigIntegerField()\n",
    "    \n",
    "    json = JSONField()\n",
    "class Submission(BaseModel):\n",
    "    pass\n",
    "class Subreddit(BaseModel):\n",
    "    pass\n"
   ]
  },
  {
   "cell_type": "code",
   "execution_count": 9,
   "metadata": {},
   "outputs": [],
   "source": [
    "with database:\n",
    "        database.create_tables([Comment, Submission, Subreddit])"
   ]
  },
  {
   "cell_type": "code",
   "execution_count": 12,
   "metadata": {},
   "outputs": [
    {
     "data": {
      "text/plain": [
       "('INSERT INTO \"comment\" DEFAULT VALUES RETURNING \"comment\".\"id\"', [])"
      ]
     },
     "execution_count": 12,
     "metadata": {},
     "output_type": "execute_result"
    }
   ],
   "source": [
    "Comment.insert().sql()"
   ]
  },
  {
   "cell_type": "code",
   "execution_count": 10,
   "metadata": {},
   "outputs": [
    {
     "ename": "NameError",
     "evalue": "name 'data' is not defined",
     "output_type": "error",
     "traceback": [
      "\u001b[1;31m---------------------------------------------------------------------------\u001b[0m",
      "\u001b[1;31mNameError\u001b[0m                                 Traceback (most recent call last)",
      "Input \u001b[1;32mIn [10]\u001b[0m, in \u001b[0;36m<cell line: 1>\u001b[1;34m()\u001b[0m\n\u001b[1;32m----> 1\u001b[0m Comment\u001b[38;5;241m.\u001b[39minsert_many(\u001b[43mdata\u001b[49m)\u001b[38;5;241m.\u001b[39mexecute()\n",
      "\u001b[1;31mNameError\u001b[0m: name 'data' is not defined"
     ]
    }
   ],
   "source": [
    "Comment.insert_many(data).execute()"
   ]
  },
  {
   "cell_type": "code",
   "execution_count": null,
   "metadata": {},
   "outputs": [],
   "source": []
  }
 ],
 "metadata": {
  "interpreter": {
   "hash": "9424bd96c72c512a104db8b8cbcb5766a6252bed271e92e191620f1eda147769"
  },
  "kernelspec": {
   "display_name": "Python 3.10.2 ('env': venv)",
   "language": "python",
   "name": "python3"
  },
  "language_info": {
   "codemirror_mode": {
    "name": "ipython",
    "version": 3
   },
   "file_extension": ".py",
   "mimetype": "text/x-python",
   "name": "python",
   "nbconvert_exporter": "python",
   "pygments_lexer": "ipython3",
   "version": "3.10.2"
  },
  "orig_nbformat": 4
 },
 "nbformat": 4,
 "nbformat_minor": 2
}
