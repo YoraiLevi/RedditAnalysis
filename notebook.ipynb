{
 "cells": [
  {
   "cell_type": "code",
   "execution_count": 1,
   "metadata": {},
   "outputs": [
    {
     "name": "stdout",
     "output_type": "stream",
     "text": [
      "Requirement already satisfied: peewee in c:\\users\\devic\\onedrive\\documents\\sources\\redditanalysis\\env\\lib\\site-packages (3.14.10)\n",
      "Requirement already satisfied: psycopg2 in c:\\users\\devic\\onedrive\\documents\\sources\\redditanalysis\\env\\lib\\site-packages (2.9.3)\n"
     ]
    },
    {
     "name": "stderr",
     "output_type": "stream",
     "text": [
      "WARNING: You are using pip version 22.0.3; however, version 22.1.1 is available.\n",
      "You should consider upgrading via the 'C:\\Users\\devic\\OneDrive\\Documents\\Sources\\RedditAnalysis\\env\\Scripts\\python.exe -m pip install --upgrade pip' command.\n"
     ]
    }
   ],
   "source": [
    "# http://docs.peewee-orm.com/en/latest/\n",
    "!pip install peewee psycopg2\n",
    "import peewee"
   ]
  },
  {
   "cell_type": "code",
   "execution_count": 2,
   "metadata": {},
   "outputs": [],
   "source": [
    "database = peewee.PostgresqlDatabase('postgres', user='postgres', host='localhost',password='postgres')\n"
   ]
  },
  {
   "cell_type": "code",
   "execution_count": 9,
   "metadata": {},
   "outputs": [],
   "source": [
    "from peewee import *\n",
    "\n",
    "# model definitions -- the standard \"pattern\" is to define a base model class\n",
    "# that specifies which database to use.  then, any subclasses will automatically\n",
    "# use the correct storage.\n",
    "class BaseModel(Model):\n",
    "    class Meta:\n",
    "        database = database\n",
    "\n",
    "class Comment(BaseModel):\n",
    "    subreddit=\"reddit.com\"\n",
    "    created_utc=1136073220\n",
    "    author_flair_css_class=null\n",
    "    score=9\n",
    "    ups=9\n",
    "    body=\"Again.  Relax.  It's funny.  Sheesh.\"\n",
    "    controversiality=0\n",
    "    stickied=false\n",
    "    link_id=\"t3_22542\"\n",
    "    subreddit_id=\"t5_6\"\n",
    "    gilded=0\n",
    "    retrieved_on:1473821517\n",
    "    distinguished:null\n",
    "    author_flair_text:null\n",
    "    author=sempf\n",
    "    parent_id=\"t1_c2701\"\n",
    "    id=\"c2713\"\n",
    "    edited=false\n",
    "\n",
    "    json=jsondata\n",
    "class Submission(BaseModel):\n",
    "    pass\n",
    "class Subreddit(BaseModel):\n",
    "    pass\n"
   ]
  },
  {
   "cell_type": "code",
   "execution_count": 10,
   "metadata": {},
   "outputs": [],
   "source": [
    "with database:\n",
    "        database.create_tables([Comment, Submission, Subreddit])"
   ]
  },
  {
   "cell_type": "code",
   "execution_count": null,
   "metadata": {},
   "outputs": [],
   "source": []
  }
 ],
 "metadata": {
  "interpreter": {
   "hash": "9424bd96c72c512a104db8b8cbcb5766a6252bed271e92e191620f1eda147769"
  },
  "kernelspec": {
   "display_name": "Python 3.10.2 ('env': venv)",
   "language": "python",
   "name": "python3"
  },
  "language_info": {
   "codemirror_mode": {
    "name": "ipython",
    "version": 3
   },
   "file_extension": ".py",
   "mimetype": "text/x-python",
   "name": "python",
   "nbconvert_exporter": "python",
   "pygments_lexer": "ipython3",
   "version": "3.10.2"
  },
  "orig_nbformat": 4
 },
 "nbformat": 4,
 "nbformat_minor": 2
}
