{
 "cells": [
  {
   "cell_type": "code",
   "execution_count": 14,
   "metadata": {},
   "outputs": [],
   "source": [
    "#naive\n",
    "def bwt_naive(text):\n",
    "    \"\"\"\n",
    "    Compute the Burrows-Wheeler transform of text.\n",
    "    \"\"\"\n",
    "    def gen_rotations(text):\n",
    "        \"\"\"\n",
    "        Generate all rotations of text.\n",
    "        \"\"\"\n",
    "        for i in range(len(text)):\n",
    "            yield text[i:] + text[:i]\n",
    "    last_column = ''.join(row[-1] for row in sorted(gen_rotations(text)))\n",
    "    return last_column\n",
    "def naive_inverse_bwt(bwt):\n",
    "    def rank(bwt,i):\n",
    "        \"\"\"\n",
    "        Return the rank of the ith character in the BWT.\n",
    "        \"\"\"\n",
    "        def occurences_of_last_character(text):\n",
    "            \"\"\"\n",
    "            Return a length of list of the indices of the last character of text.\n",
    "            \"\"\"\n",
    "            last_char = text[-1]\n",
    "            return len([i for i, char in enumerate(text) if char == last_char])\n",
    "        return occurences_of_last_character(bwt[:,i+1])    \n",
    "    def index_of_first_character(char, bwt):\n",
    "        \"\"\"\n",
    "        Return the index of the first occurrence of char in the BWT.\n",
    "        \"\"\"\n",
    "        return sorted(bwt).index(char)\n",
    "\n",
    "    original_text = []\n",
    "    first_column = sorted(\"mississippi$\")\n",
    "    for c in bwt:\n",
    "        # original_text.append(first_column[rank(bwt,index_of_first_character(c,bwt))])\n",
    "    # c = first_column[0]\n",
    "    # rank = rank(bwt,0)\n",
    "    # skip = index_of_first_character(c,bwt)\n",
    "    # next_row = rank+skip\n",
    "    return original_text\n",
    "    "
   ]
  },
  {
   "cell_type": "code",
   "execution_count": 16,
   "metadata": {},
   "outputs": [
    {
     "ename": "TypeError",
     "evalue": "string indices must be integers",
     "output_type": "error",
     "traceback": [
      "\u001b[1;31m---------------------------------------------------------------------------\u001b[0m",
      "\u001b[1;31mTypeError\u001b[0m                                 Traceback (most recent call last)",
      "\u001b[1;32mc:\\Users\\devic\\OneDrive\\Documents\\Sources\\RedditAnalysis\\indexing\\fmindex_bwt.ipynb Cell 2'\u001b[0m in \u001b[0;36m<cell line: 1>\u001b[1;34m()\u001b[0m\n\u001b[1;32m----> <a href='vscode-notebook-cell:/c%3A/Users/devic/OneDrive/Documents/Sources/RedditAnalysis/indexing/fmindex_bwt.ipynb#ch0000005?line=0'>1</a>\u001b[0m naive_inverse_bwt(bwt_naive(\u001b[39m\"\u001b[39;49m\u001b[39mmississippi\u001b[39;49m\u001b[39m\"\u001b[39;49m))\n",
      "\u001b[1;32mc:\\Users\\devic\\OneDrive\\Documents\\Sources\\RedditAnalysis\\indexing\\fmindex_bwt.ipynb Cell 1'\u001b[0m in \u001b[0;36mnaive_inverse_bwt\u001b[1;34m(bwt)\u001b[0m\n\u001b[0;32m     <a href='vscode-notebook-cell:/c%3A/Users/devic/OneDrive/Documents/Sources/RedditAnalysis/indexing/fmindex_bwt.ipynb#ch0000000?line=32'>33</a>\u001b[0m first_column \u001b[39m=\u001b[39m \u001b[39msorted\u001b[39m(\u001b[39m\"\u001b[39m\u001b[39mmississippi$\u001b[39m\u001b[39m\"\u001b[39m)\n\u001b[0;32m     <a href='vscode-notebook-cell:/c%3A/Users/devic/OneDrive/Documents/Sources/RedditAnalysis/indexing/fmindex_bwt.ipynb#ch0000000?line=33'>34</a>\u001b[0m \u001b[39mfor\u001b[39;00m c \u001b[39min\u001b[39;00m bwt:\n\u001b[1;32m---> <a href='vscode-notebook-cell:/c%3A/Users/devic/OneDrive/Documents/Sources/RedditAnalysis/indexing/fmindex_bwt.ipynb#ch0000000?line=34'>35</a>\u001b[0m     original_text\u001b[39m.\u001b[39mappend(first_column[rank(bwt,index_of_first_character(c,bwt))])\n\u001b[0;32m     <a href='vscode-notebook-cell:/c%3A/Users/devic/OneDrive/Documents/Sources/RedditAnalysis/indexing/fmindex_bwt.ipynb#ch0000000?line=35'>36</a>\u001b[0m \u001b[39m# c = first_column[0]\u001b[39;00m\n\u001b[0;32m     <a href='vscode-notebook-cell:/c%3A/Users/devic/OneDrive/Documents/Sources/RedditAnalysis/indexing/fmindex_bwt.ipynb#ch0000000?line=36'>37</a>\u001b[0m \u001b[39m# rank = rank(bwt,0)\u001b[39;00m\n\u001b[0;32m     <a href='vscode-notebook-cell:/c%3A/Users/devic/OneDrive/Documents/Sources/RedditAnalysis/indexing/fmindex_bwt.ipynb#ch0000000?line=37'>38</a>\u001b[0m \u001b[39m# skip = index_of_first_character(c,bwt)\u001b[39;00m\n\u001b[0;32m     <a href='vscode-notebook-cell:/c%3A/Users/devic/OneDrive/Documents/Sources/RedditAnalysis/indexing/fmindex_bwt.ipynb#ch0000000?line=38'>39</a>\u001b[0m \u001b[39m# next_row = rank+skip\u001b[39;00m\n\u001b[0;32m     <a href='vscode-notebook-cell:/c%3A/Users/devic/OneDrive/Documents/Sources/RedditAnalysis/indexing/fmindex_bwt.ipynb#ch0000000?line=39'>40</a>\u001b[0m \u001b[39mreturn\u001b[39;00m original_text\n",
      "\u001b[1;32mc:\\Users\\devic\\OneDrive\\Documents\\Sources\\RedditAnalysis\\indexing\\fmindex_bwt.ipynb Cell 1'\u001b[0m in \u001b[0;36mnaive_inverse_bwt.<locals>.rank\u001b[1;34m(bwt, i)\u001b[0m\n\u001b[0;32m     <a href='vscode-notebook-cell:/c%3A/Users/devic/OneDrive/Documents/Sources/RedditAnalysis/indexing/fmindex_bwt.ipynb#ch0000000?line=22'>23</a>\u001b[0m     last_char \u001b[39m=\u001b[39m text[\u001b[39m-\u001b[39m\u001b[39m1\u001b[39m]\n\u001b[0;32m     <a href='vscode-notebook-cell:/c%3A/Users/devic/OneDrive/Documents/Sources/RedditAnalysis/indexing/fmindex_bwt.ipynb#ch0000000?line=23'>24</a>\u001b[0m     \u001b[39mreturn\u001b[39;00m \u001b[39mlen\u001b[39m([i \u001b[39mfor\u001b[39;00m i, char \u001b[39min\u001b[39;00m \u001b[39menumerate\u001b[39m(text) \u001b[39mif\u001b[39;00m char \u001b[39m==\u001b[39m last_char])\n\u001b[1;32m---> <a href='vscode-notebook-cell:/c%3A/Users/devic/OneDrive/Documents/Sources/RedditAnalysis/indexing/fmindex_bwt.ipynb#ch0000000?line=24'>25</a>\u001b[0m \u001b[39mreturn\u001b[39;00m occurences_of_last_character(bwt[:,i\u001b[39m+\u001b[39;49m\u001b[39m1\u001b[39;49m])\n",
      "\u001b[1;31mTypeError\u001b[0m: string indices must be integers"
     ]
    }
   ],
   "source": [
    "naive_inverse_bwt(bwt_naive(\"mississippi\"))"
   ]
  },
  {
   "cell_type": "code",
   "execution_count": null,
   "metadata": {},
   "outputs": [],
   "source": []
  },
  {
   "cell_type": "code",
   "execution_count": 9,
   "metadata": {},
   "outputs": [
    {
     "data": {
      "text/plain": [
       "'ipssm$pissii'"
      ]
     },
     "execution_count": 9,
     "metadata": {},
     "output_type": "execute_result"
    }
   ],
   "source": [
    "bwt_naive(\"mississippi$\")"
   ]
  },
  {
   "cell_type": "code",
   "execution_count": 11,
   "metadata": {},
   "outputs": [
    {
     "data": {
      "text/plain": [
       "['$', 'i', 'i', 'i', 'i', 'm', 'p', 'p', 's', 's', 's', 's']"
      ]
     },
     "execution_count": 11,
     "metadata": {},
     "output_type": "execute_result"
    }
   ],
   "source": []
  },
  {
   "cell_type": "code",
   "execution_count": null,
   "metadata": {},
   "outputs": [],
   "source": []
  }
 ],
 "metadata": {
  "kernelspec": {
   "display_name": "Python 3.10.2 ('env': venv)",
   "language": "python",
   "name": "python3"
  },
  "language_info": {
   "codemirror_mode": {
    "name": "ipython",
    "version": 3
   },
   "file_extension": ".py",
   "mimetype": "text/x-python",
   "name": "python",
   "nbconvert_exporter": "python",
   "pygments_lexer": "ipython3",
   "version": "3.10.2"
  },
  "orig_nbformat": 4,
  "vscode": {
   "interpreter": {
    "hash": "2313714c4923fc5ae0206e2943803fd42e0e00cf1ba069d1927964bfc87648e1"
   }
  }
 },
 "nbformat": 4,
 "nbformat_minor": 2
}
