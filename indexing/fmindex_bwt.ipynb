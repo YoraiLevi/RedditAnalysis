{
 "cells": [
  {
   "cell_type": "code",
   "execution_count": 25,
   "metadata": {},
   "outputs": [],
   "source": [
    "#naive\n",
    "def bwt_naive(text):\n",
    "    \"\"\"\n",
    "    Compute the Burrows-Wheeler transform of text.\n",
    "    \"\"\"\n",
    "    def gen_rotations(text):\n",
    "        \"\"\"\n",
    "        Generate all rotations of text.\n",
    "        \"\"\"\n",
    "        for i in range(len(text)):\n",
    "            yield text[i:] + text[:i]\n",
    "    last_column = ''.join(row[-1] for row in sorted(gen_rotations(text)))\n",
    "    return last_column\n",
    "def naive_inverse_bwt(bwt):\n",
    "    def rank(bwt,i):\n",
    "        \"\"\"\n",
    "        Return the rank of the ith character in the BWT.\n",
    "        \"\"\"\n",
    "        def occurences_of_last_character(text):\n",
    "            \"\"\"\n",
    "            Return a length of list of the indices of the last character of text.\n",
    "            \"\"\"\n",
    "            last_char = text[-1]\n",
    "            return len([i for i, char in enumerate(text) if char == last_char])\n",
    "        return occurences_of_last_character(bwt[:,i+1])    \n",
    "    def index_of_first_character_in_first_row(c, bwt):\n",
    "        \"\"\"\n",
    "        Return the index of the first occurrence of char in the first column.\n",
    "        \"\"\"\n",
    "        return sorted(bwt).index(c)\n",
    "\n",
    "    original_text = []\n",
    "    print(bwt)\n",
    "    first_column = sorted(\"mississippi$\")\n",
    "    for c in bwt:\n",
    "        print(index_of_first_character_in_first_row(c,bwt))\n",
    "        # original_text.append(first_column[rank(bwt,index_of_first_character(c,bwt))])\n",
    "    # c = first_column[0]\n",
    "    # rank = rank(bwt,0)\n",
    "    # skip = index_of_first_character(c,bwt)\n",
    "    # next_row = rank+skip\n",
    "    return original_text\n",
    "    "
   ]
  },
  {
   "cell_type": "code",
   "execution_count": 28,
   "metadata": {},
   "outputs": [
    {
     "name": "stdout",
     "output_type": "stream",
     "text": [
      "ipssm$pissii\n",
      "1\n",
      "6\n",
      "8\n",
      "8\n",
      "5\n",
      "0\n",
      "6\n",
      "1\n",
      "8\n",
      "8\n",
      "1\n",
      "1\n"
     ]
    },
    {
     "data": {
      "text/plain": [
       "[]"
      ]
     },
     "execution_count": 28,
     "metadata": {},
     "output_type": "execute_result"
    }
   ],
   "source": [
    "naive_inverse_bwt(bwt_naive(\"mississippi$\"))"
   ]
  },
  {
   "cell_type": "code",
   "execution_count": null,
   "metadata": {},
   "outputs": [],
   "source": []
  },
  {
   "cell_type": "code",
   "execution_count": 9,
   "metadata": {},
   "outputs": [
    {
     "data": {
      "text/plain": [
       "'ipssm$pissii'"
      ]
     },
     "execution_count": 9,
     "metadata": {},
     "output_type": "execute_result"
    }
   ],
   "source": [
    "bwt_naive(\"mississippi$\")"
   ]
  },
  {
   "cell_type": "code",
   "execution_count": 30,
   "metadata": {},
   "outputs": [
    {
     "data": {
      "text/plain": [
       "6"
      ]
     },
     "execution_count": 30,
     "metadata": {},
     "output_type": "execute_result"
    }
   ],
   "source": [
    "sorted(bwt_naive(\"mississippi$\")).index(\"p\")"
   ]
  },
  {
   "cell_type": "code",
   "execution_count": 11,
   "metadata": {},
   "outputs": [
    {
     "data": {
      "text/plain": [
       "['$', 'i', 'i', 'i', 'i', 'm', 'p', 'p', 's', 's', 's', 's']"
      ]
     },
     "execution_count": 11,
     "metadata": {},
     "output_type": "execute_result"
    }
   ],
   "source": []
  },
  {
   "cell_type": "code",
   "execution_count": null,
   "metadata": {},
   "outputs": [],
   "source": []
  }
 ],
 "metadata": {
  "kernelspec": {
   "display_name": "Python 3.10.2 ('env': venv)",
   "language": "python",
   "name": "python3"
  },
  "language_info": {
   "codemirror_mode": {
    "name": "ipython",
    "version": 3
   },
   "file_extension": ".py",
   "mimetype": "text/x-python",
   "name": "python",
   "nbconvert_exporter": "python",
   "pygments_lexer": "ipython3",
   "version": "3.10.2"
  },
  "orig_nbformat": 4,
  "vscode": {
   "interpreter": {
    "hash": "2313714c4923fc5ae0206e2943803fd42e0e00cf1ba069d1927964bfc87648e1"
   }
  }
 },
 "nbformat": 4,
 "nbformat_minor": 2
}
