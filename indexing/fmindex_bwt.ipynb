{
 "cells": [
  {
   "cell_type": "code",
   "execution_count": 8,
   "metadata": {},
   "outputs": [],
   "source": [
    "#naive\n",
    "def bwt_naive(text):\n",
    "    \"\"\"\n",
    "    Compute the Burrows-Wheeler transform of text.\n",
    "    \"\"\"\n",
    "    def gen_rotations(text):\n",
    "        \"\"\"\n",
    "        Generate all rotations of text.\n",
    "        \"\"\"\n",
    "        for i in range(len(text)):\n",
    "            yield text[i:] + text[:i]\n",
    "    last_column = ''.join(row[-1] for row in sorted(gen_rotations(text)))\n",
    "    return last_column"
   ]
  },
  {
   "cell_type": "code",
   "execution_count": null,
   "metadata": {},
   "outputs": [],
   "source": []
  },
  {
   "cell_type": "code",
   "execution_count": 9,
   "metadata": {},
   "outputs": [
    {
     "data": {
      "text/plain": [
       "'ipssm$pissii'"
      ]
     },
     "execution_count": 9,
     "metadata": {},
     "output_type": "execute_result"
    }
   ],
   "source": [
    "bwt_naive(\"mississippi$\")"
   ]
  },
  {
   "cell_type": "code",
   "execution_count": null,
   "metadata": {},
   "outputs": [],
   "source": []
  }
 ],
 "metadata": {
  "kernelspec": {
   "display_name": "Python 3.10.2 ('env': venv)",
   "language": "python",
   "name": "python3"
  },
  "language_info": {
   "codemirror_mode": {
    "name": "ipython",
    "version": 3
   },
   "file_extension": ".py",
   "mimetype": "text/x-python",
   "name": "python",
   "nbconvert_exporter": "python",
   "pygments_lexer": "ipython3",
   "version": "3.10.2"
  },
  "orig_nbformat": 4,
  "vscode": {
   "interpreter": {
    "hash": "2313714c4923fc5ae0206e2943803fd42e0e00cf1ba069d1927964bfc87648e1"
   }
  }
 },
 "nbformat": 4,
 "nbformat_minor": 2
}
