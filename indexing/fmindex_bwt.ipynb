{
 "cells": [
  {
   "cell_type": "code",
   "execution_count": 84,
   "metadata": {},
   "outputs": [],
   "source": [
    "#naive\n",
    "def bwt_naive(text):\n",
    "    \"\"\"\n",
    "    Compute the Burrows-Wheeler transform of text.\n",
    "    \"\"\"\n",
    "    def gen_rotations(text):\n",
    "        \"\"\"\n",
    "        Generate all rotations of text.\n",
    "        \"\"\"\n",
    "        for i in range(len(text)):\n",
    "            yield text[i:] + text[:i]\n",
    "    last_column = ''.join(row[-1] for row in sorted(gen_rotations(text)))\n",
    "    return last_column\n",
    "def naive_inverse_bwt(bwt):\n",
    "    def rank(bwt,i):\n",
    "        \"\"\"\n",
    "        Return the rank of the ith character in the BWT.\n",
    "        \"\"\"\n",
    "        def occurrences_of_last_character(text):\n",
    "            \"\"\"\n",
    "            Counts how many characters are equal to the last one without the last one.\n",
    "            Improvements: Precalculate \n",
    "            \"\"\"\n",
    "            last_char = text[-1]\n",
    "            return len([i for i, char in enumerate(text) if char == last_char])-1\n",
    "        return occurrences_of_last_character(list(bwt)[:i+1])    \n",
    "    def index_of_first_character_in_first_row(bwt,c):\n",
    "        \"\"\"\n",
    "        Return the index of the first occurrence of char in the first column.\n",
    "        Improvements: Precalculate\n",
    "        \"\"\"\n",
    "        return sorted(bwt).index(c)\n",
    "\n",
    "    original_text = []\n",
    "    position = 0\n",
    "    c = bwt[position]\n",
    "    while(len(original_text)==0 or (c := bwt[position]) != \"$\"):\n",
    "        r = rank(bwt,position)\n",
    "        skip = index_of_first_character_in_first_row(bwt,c)\n",
    "        position = skip+r\n",
    "        current_first_column_character = sorted(bwt)[position]\n",
    "        original_text.append(current_first_column_character)\n",
    "    original_text.reverse()\n",
    "    return \"\".join(original_text)+\"$\"\n",
    "    "
   ]
  },
  {
   "cell_type": "code",
   "execution_count": 85,
   "metadata": {},
   "outputs": [
    {
     "data": {
      "text/plain": [
       "'mississippi$'"
      ]
     },
     "execution_count": 85,
     "metadata": {},
     "output_type": "execute_result"
    }
   ],
   "source": [
    "naive_inverse_bwt(bwt_naive(\"mississippi$\"))"
   ]
  },
  {
   "cell_type": "code",
   "execution_count": 9,
   "metadata": {},
   "outputs": [
    {
     "data": {
      "text/plain": [
       "'ipssm$pissii'"
      ]
     },
     "execution_count": 9,
     "metadata": {},
     "output_type": "execute_result"
    }
   ],
   "source": [
    "bwt_naive(\"mississippi$\")"
   ]
  }
 ],
 "metadata": {
  "kernelspec": {
   "display_name": "Python 3.10.2 ('env': venv)",
   "language": "python",
   "name": "python3"
  },
  "language_info": {
   "codemirror_mode": {
    "name": "ipython",
    "version": 3
   },
   "file_extension": ".py",
   "mimetype": "text/x-python",
   "name": "python",
   "nbconvert_exporter": "python",
   "pygments_lexer": "ipython3",
   "version": "3.10.2"
  },
  "orig_nbformat": 4,
  "vscode": {
   "interpreter": {
    "hash": "2313714c4923fc5ae0206e2943803fd42e0e00cf1ba069d1927964bfc87648e1"
   }
  }
 },
 "nbformat": 4,
 "nbformat_minor": 2
}
